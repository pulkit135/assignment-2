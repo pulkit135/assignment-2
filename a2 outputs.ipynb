{
 "cells": [
  {
   "cell_type": "code",
   "execution_count": null,
   "id": "45187f1b",
   "metadata": {},
   "outputs": [],
   "source": [
    "the length of the string is 35\n",
    "reverse of string is: egaugnal evitisnes esac a si nohtyP\n",
    "sliced string is: a case sensitive\n",
    "Python is object oriented language\n",
    "10\n",
    "Pythonisacasesensitivelanguage\n",
    "Enter your name here Pulkit Dembla\n",
    "Enter your department here Mechanical Engineering\n",
    "Enter your sid here 21107094\n",
    "Enter your cgpa here 9.9\n",
    "Hey, Pulkit Dembla  Here !\n",
    "My SID is 21107094\n",
    "I am from Mechanical Engineering department and my CGPA is 9.9\n",
    "8\n",
    "58\n",
    "50\n",
    "224\n",
    "40\n",
    "14\n",
    "0\n",
    "Enter a string here please rename this file\n",
    "Yes\n",
    "Enter first side : 12\n",
    "Enter second side : 8\n",
    "Enter third side : 3\n",
    "No\n",
    "Enter a number1100\n",
    "Enter a number1101\n",
    "Total flips required is 1\n"
   ]
  }
 ],
 "metadata": {
  "kernelspec": {
   "display_name": "Python 3 (ipykernel)",
   "language": "python",
   "name": "python3"
  },
  "language_info": {
   "codemirror_mode": {
    "name": "ipython",
    "version": 3
   },
   "file_extension": ".py",
   "mimetype": "text/x-python",
   "name": "python",
   "nbconvert_exporter": "python",
   "pygments_lexer": "ipython3",
   "version": "3.9.7"
  }
 },
 "nbformat": 4,
 "nbformat_minor": 5
}
